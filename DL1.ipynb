{
 "cells": [
  {
   "cell_type": "markdown",
   "id": "d301fcdb",
   "metadata": {},
   "source": [
    "# Exercice 1:"
   ]
  },
  {
   "cell_type": "code",
   "execution_count": 1,
   "id": "e0a27973",
   "metadata": {},
   "outputs": [],
   "source": [
    "import numpy.random as rd\n",
    "import math\n",
    "import matplotlib.pyplot as plt"
   ]
  },
  {
   "cell_type": "markdown",
   "id": "851b6610",
   "metadata": {},
   "source": [
    "#### Q1)"
   ]
  },
  {
   "cell_type": "markdown",
   "id": "e6d643ad",
   "metadata": {},
   "source": [
    "soit u appartient à \\[0,1[ \n",
    "\n",
    "on a (n2 - n1 + 1)u -1 < E((n2 - n1 + 1)u) <= (n2 - n1 + 1)u\n",
    "\n",
    "et comme -1 < (n2 - n1 + 1)u - 1 et (n2 - n1 + 1)u < n2 - n1 + 1\n",
    "\n",
    "Alors -1 < E((n2 - n1 + 1)u) < n2 - n1 + 1\n",
    "\n",
    "Donc n1 - 1 < n1 + E((n2 - n1 + 1)u) < n2 + 1\n",
    "\n",
    "Alors n1 <= n1 + E((n2 - n1 + 1)u) <= n2\n",
    "\n",
    "on pose v = n1 + E((n2 - n1 + 1)u)\n",
    "\n",
    "donc v appartient à [n1,n2]"
   ]
  },
  {
   "cell_type": "markdown",
   "id": "7b49027d",
   "metadata": {},
   "source": [
    "#### Q2)"
   ]
  },
  {
   "cell_type": "code",
   "execution_count": 2,
   "id": "fb003573",
   "metadata": {},
   "outputs": [],
   "source": [
    "def uniforme(n1, n2):\n",
    "    u = rd.random()\n",
    "    v = n1 + math.floor((n2 - n1 + 1)*u)\n",
    "    return v"
   ]
  },
  {
   "cell_type": "markdown",
   "id": "36799374",
   "metadata": {},
   "source": [
    "#### Q3)"
   ]
  },
  {
   "cell_type": "code",
   "execution_count": 3,
   "id": "fa26df67",
   "metadata": {},
   "outputs": [
    {
     "data": {
      "text/plain": [
       "6"
      ]
     },
     "execution_count": 3,
     "metadata": {},
     "output_type": "execute_result"
    }
   ],
   "source": [
    "uniforme(1,6)"
   ]
  },
  {
   "cell_type": "markdown",
   "id": "5647e631",
   "metadata": {},
   "source": [
    "#### Q4)"
   ]
  },
  {
   "cell_type": "code",
   "execution_count": 4,
   "id": "8a48bd7e",
   "metadata": {},
   "outputs": [],
   "source": [
    "def repeterDe(N):\n",
    "    resultats = []\n",
    "    for i in range(N):\n",
    "        resultats.append(uniforme(1, 6))\n",
    "    return resultats"
   ]
  },
  {
   "cell_type": "markdown",
   "id": "bc2fddb3",
   "metadata": {},
   "source": [
    "#### Q5)"
   ]
  },
  {
   "cell_type": "code",
   "execution_count": 5,
   "id": "01f31e3b",
   "metadata": {},
   "outputs": [],
   "source": [
    "def probabilite_A(i, N):\n",
    "    experiences = repeterDe(N)\n",
    "    c = 0\n",
    "    for face in experiences:\n",
    "        if face == i:\n",
    "            c = c + 1\n",
    "    return c/N"
   ]
  },
  {
   "cell_type": "markdown",
   "id": "23fd09d2",
   "metadata": {},
   "source": [
    "#### Q6)"
   ]
  },
  {
   "cell_type": "code",
   "execution_count": 6,
   "id": "3439de0c",
   "metadata": {},
   "outputs": [],
   "source": [
    "def probabilite_B(N):\n",
    "    experiences = repeterDe(N)\n",
    "    c = 0\n",
    "    for face in experiences:\n",
    "        if face % 2 == 0:\n",
    "            c = c + 1\n",
    "    return c/N"
   ]
  },
  {
   "cell_type": "markdown",
   "id": "f5dbad7a",
   "metadata": {},
   "source": [
    "Vérification:\n",
    "\n",
    "la probabilité des nombre pairs dans le range \\[1,6[ est 1/2"
   ]
  },
  {
   "cell_type": "markdown",
   "id": "9f8b8afe",
   "metadata": {},
   "source": [
    "#### Q7)"
   ]
  },
  {
   "cell_type": "code",
   "execution_count": 7,
   "id": "5ab0d0f4",
   "metadata": {},
   "outputs": [],
   "source": [
    "def counter(l,e):\n",
    "    c = 0\n",
    "    for element in l:\n",
    "        if element == e:\n",
    "            c = c + 1\n",
    "    return c/len(l)"
   ]
  },
  {
   "cell_type": "markdown",
   "id": "7b0bc574",
   "metadata": {},
   "source": [
    "#### Q8)"
   ]
  },
  {
   "cell_type": "code",
   "execution_count": 8,
   "id": "6329d1e8",
   "metadata": {},
   "outputs": [
    {
     "data": {
      "text/plain": [
       "<BarContainer object of 6 artists>"
      ]
     },
     "execution_count": 8,
     "metadata": {},
     "output_type": "execute_result"
    },
    {
     "data": {
      "image/png": "[encoded data removed]",
      "text/plain": [
       "<Figure size 640x480 with 1 Axes>"
      ]
     },
     "metadata": {},
     "output_type": "display_data"
    }
   ],
   "source": [
    "N = 10000\n",
    "l = repeterDe(N)\n",
    "ab = [i for i in range(1,7)]\n",
    "evenements = [counter(l,i) for i in ab]\n",
    "plt.bar(ab, evenements)"
   ]
  },
  {
   "cell_type": "markdown",
   "id": "5cf22de8",
   "metadata": {},
   "source": [
    "# Exercice 2:"
   ]
  },
  {
   "cell_type": "markdown",
   "id": "21fed7a5",
   "metadata": {},
   "source": [
    "### Première partie:"
   ]
  },
  {
   "cell_type": "markdown",
   "id": "ee16c36a",
   "metadata": {},
   "source": [
    "#### Q1)"
   ]
  },
  {
   "cell_type": "code",
   "execution_count": 9,
   "id": "6519df24",
   "metadata": {},
   "outputs": [],
   "source": [
    "def piece(p):\n",
    "    return 1 if rd.random() < p else 0"
   ]
  },
  {
   "cell_type": "markdown",
   "id": "3a96f877",
   "metadata": {},
   "source": [
    "#### Q2)"
   ]
  },
  {
   "cell_type": "code",
   "execution_count": 10,
   "id": "6516bb72",
   "metadata": {},
   "outputs": [],
   "source": [
    "def repeterPiece(p, N):\n",
    "    resultats = []\n",
    "    for i in range(N):\n",
    "        resultats.append(piece(p))\n",
    "    return resultats"
   ]
  },
  {
   "cell_type": "markdown",
   "id": "e66643c0",
   "metadata": {},
   "source": [
    "#### Q3)"
   ]
  },
  {
   "cell_type": "code",
   "execution_count": 11,
   "id": "a775e82a",
   "metadata": {},
   "outputs": [
    {
     "data": {
      "image/png": "[encoded data removed]",
      "text/plain": [
       "<Figure size 640x480 with 1 Axes>"
      ]
     },
     "metadata": {},
     "output_type": "display_data"
    }
   ],
   "source": [
    "N = 10000\n",
    "p = 0.3\n",
    "l = repeterPiece(p, N)\n",
    "abscices = [0, 1]\n",
    "fréquences = [counter(l, 0), counter(l, 1)]\n",
    "plt.stem(abscices, fréquences)\n",
    "plt.grid()"
   ]
  },
  {
   "cell_type": "markdown",
   "id": "2cd52175",
   "metadata": {},
   "source": [
    "## Deuxième partie:"
   ]
  },
  {
   "cell_type": "markdown",
   "id": "797d78c5",
   "metadata": {},
   "source": [
    "#### Q4)"
   ]
  },
  {
   "cell_type": "code",
   "execution_count": 12,
   "id": "8f973ac3",
   "metadata": {},
   "outputs": [],
   "source": [
    "def nbrSucces(n, p):\n",
    "    l = repeterPiece(p, n)\n",
    "    c = 0\n",
    "    for i in l:\n",
    "        if i == 0:\n",
    "            c = c + 1\n",
    "    return c"
   ]
  },
  {
   "cell_type": "markdown",
   "id": "174b1b00",
   "metadata": {},
   "source": [
    "#### Q5)"
   ]
  },
  {
   "cell_type": "code",
   "execution_count": 13,
   "id": "042589a9",
   "metadata": {},
   "outputs": [],
   "source": [
    "def repeterNbrSucces(n, p, N):\n",
    "    resultats = []\n",
    "    for i in range(N):\n",
    "        resultats.append(nbrSucces(n, p))\n",
    "    return resultats"
   ]
  },
  {
   "cell_type": "markdown",
   "id": "42045a58",
   "metadata": {},
   "source": [
    "#### Q6)"
   ]
  },
  {
   "cell_type": "code",
   "execution_count": 14,
   "id": "27010ade",
   "metadata": {},
   "outputs": [
    {
     "data": {
      "text/plain": [
       "<BarContainer object of 50 artists>"
      ]
     },
     "execution_count": 14,
     "metadata": {},
     "output_type": "execute_result"
    },
    {
     "data": {
      "image/png": "[encoded data removed]",
      "text/plain": [
       "<Figure size 640x480 with 1 Axes>"
      ]
     },
     "metadata": {},
     "output_type": "display_data"
    }
   ],
   "source": [
    "N = 10000\n",
    "n = 50\n",
    "p = 0.3\n",
    "l = repeterNbrSucces(n, p, N)\n",
    "abscices = [i for i in range(1, n+1)]\n",
    "fréquences = [counter(l, i) for i in abscices]\n",
    "plt.bar(abscices, fréquences)"
   ]
  },
  {
   "cell_type": "markdown",
   "id": "ae4c8074",
   "metadata": {},
   "source": [
    "# Exercice 3:"
   ]
  },
  {
   "cell_type": "markdown",
   "id": "6234b0f6",
   "metadata": {},
   "source": [
    "#### Q1)"
   ]
  },
  {
   "cell_type": "code",
   "execution_count": 15,
   "id": "65a928b3",
   "metadata": {},
   "outputs": [],
   "source": [
    "urne1 = [\"blanche\", \"blanche\", \"noire\"]\n",
    "urne2 = [\"blanche\", \"blanche\", \"blanche\", \"noire\"]\n",
    "urne3 = [\"blanche\", \"blanche\", \"noire\", \"noire\"]"
   ]
  },
  {
   "cell_type": "code",
   "execution_count": 16,
   "id": "9dd9781c",
   "metadata": {},
   "outputs": [],
   "source": [
    "def urne():\n",
    "    u = uniforme(1,3)\n",
    "    if u == 1:\n",
    "        return urne1\n",
    "    if u == 2:\n",
    "        return urne2\n",
    "    return urne3\n",
    "\n",
    "def repetertirer(N):\n",
    "    resultats = []\n",
    "    for i in range(N):\n",
    "        urn = urne()\n",
    "        resultats.append(urn[uniforme(1,len(urn)) - 1])\n",
    "    return resultats\n",
    "\n",
    "def blanche_frequence():\n",
    "    experiences = repetertirer(10000)\n",
    "    c = 0\n",
    "    for boule in experiences:\n",
    "        if boule == \"blanche\":\n",
    "            c = c + 1\n",
    "    return c/N\n",
    "        "
   ]
  },
  {
   "cell_type": "code",
   "execution_count": 17,
   "id": "d18a6db8",
   "metadata": {},
   "outputs": [
    {
     "data": {
      "text/plain": [
       "0.6392"
      ]
     },
     "execution_count": 17,
     "metadata": {},
     "output_type": "execute_result"
    }
   ],
   "source": [
    "blanche_frequence()"
   ]
  },
  {
   "cell_type": "markdown",
   "id": "45aabd7b",
   "metadata": {},
   "source": [
    "#### Q2)"
   ]
  },
  {
   "cell_type": "markdown",
   "id": "2080117f",
   "metadata": {},
   "source": [
    "d'aprés l'arbre pondéré:\n",
    "\n",
    "la probabilité d'obtenir une boule blanche est ( ((1/3)(2/3)) + ((1/3)(3/4)) + ((1/3)(1/2)) ) \n",
    "\n",
    "c.à.d la probabilité est: ( (2/9)+(1/4)+(1/6) )"
   ]
  },
  {
   "cell_type": "code",
   "execution_count": 18,
   "id": "c8f91457",
   "metadata": {},
   "outputs": [
    {
     "name": "stdout",
     "output_type": "stream",
     "text": [
      "-0.002288888888888785\n"
     ]
    }
   ],
   "source": [
    "probabilite = (2/9)+(1/4)+(1/6)\n",
    "print(blanche_frequence() - probabilite)"
   ]
  },
  {
   "cell_type": "markdown",
   "id": "0f359fd0",
   "metadata": {},
   "source": [
    "#### Q3)"
   ]
  },
  {
   "cell_type": "code",
   "execution_count": 19,
   "id": "37bc1452",
   "metadata": {},
   "outputs": [],
   "source": [
    "urne_b = [\"blanche\" for i in range(10)]\n",
    "urne_n = [\"noire\" for i in range(10)]\n",
    "urne_1 = urne_n + 3*urne_b\n",
    "urne_2 = 2*urne_n + 2*urne_b"
   ]
  },
  {
   "cell_type": "code",
   "execution_count": 20,
   "id": "7f6cd6ab",
   "metadata": {},
   "outputs": [],
   "source": [
    "def urne_():\n",
    "    u = uniforme(1,2)\n",
    "    if u == 1:\n",
    "        return urne_1\n",
    "    return urne_2\n",
    "\n",
    "def repetertirer_(N):\n",
    "    resultats = []\n",
    "    for i in range(N):\n",
    "        urn = urne_()\n",
    "        l = [urn[uniforme(1,len(urn)) - 1], urn == urne_1]\n",
    "        resultats.append(l)\n",
    "    return resultats\n",
    "\n",
    "def blanche_frequence_():\n",
    "    experiences = repetertirer_(10000)\n",
    "    c = 0\n",
    "    for boule in experiences:\n",
    "        if boule[0] == \"blanche\" and boule[1]:\n",
    "            c = c + 1\n",
    "    return c/N\n"
   ]
  },
  {
   "cell_type": "code",
   "execution_count": 21,
   "id": "339855e4",
   "metadata": {},
   "outputs": [
    {
     "data": {
      "text/plain": [
       "0.3772"
      ]
     },
     "execution_count": 21,
     "metadata": {},
     "output_type": "execute_result"
    }
   ],
   "source": [
    "\n",
    "blanche_frequence_()"
   ]
  },
  {
   "cell_type": "markdown",
   "id": "e2f8e2bc",
   "metadata": {},
   "source": [
    "#### Q4)"
   ]
  },
  {
   "cell_type": "markdown",
   "id": "69f97805",
   "metadata": {},
   "source": [
    "d'aprés l'arbre pondéré:\n",
    "\n",
    "la probabilité d'obtenir une boule blanche est ((1/2)(3/4)) \n",
    "\n",
    "c.à.d la probabilité est: 3/8"
   ]
  },
  {
   "cell_type": "code",
   "execution_count": 22,
   "id": "13481f05",
   "metadata": {},
   "outputs": [
    {
     "name": "stdout",
     "output_type": "stream",
     "text": [
      "9.999999999998899e-05\n"
     ]
    }
   ],
   "source": [
    "print(blanche_frequence_() - 3/8)"
   ]
  },
  {
   "cell_type": "markdown",
   "id": "ba6af48a",
   "metadata": {},
   "source": [
    "# Exercice 4:"
   ]
  },
  {
   "cell_type": "markdown",
   "id": "b65ffb70",
   "metadata": {},
   "source": [
    "#### Q1)"
   ]
  },
  {
   "cell_type": "code",
   "execution_count": 23,
   "id": "03999792",
   "metadata": {},
   "outputs": [],
   "source": [
    "def deplacement(n):\n",
    "    puce = 1\n",
    "    for i in range(1, n+1):\n",
    "        if puce == 1:\n",
    "            puce = 2\n",
    "        elif puce == 2:\n",
    "            if uniforme(1,2) == 1:\n",
    "                puce = 1\n",
    "            else : puce = 3\n",
    "        else : puce = 3\n",
    "        if puce == 1:\n",
    "            print(f\"Instant {i} : 1\")\n",
    "        elif puce == 2:\n",
    "            print(f\"Instant {i} : 2\")\n",
    "        else :\n",
    "            print(f\"Instant {i} : 3\")\n",
    "    return puce"
   ]
  },
  {
   "cell_type": "markdown",
   "id": "e40b6973",
   "metadata": {},
   "source": [
    "#### Q2)"
   ]
  },
  {
   "cell_type": "code",
   "execution_count": 24,
   "id": "df402c71",
   "metadata": {},
   "outputs": [],
   "source": [
    "def puce(n):\n",
    "    puce = deplacement(n)\n",
    "    print(puce)"
   ]
  },
  {
   "cell_type": "markdown",
   "id": "ee38b49d",
   "metadata": {},
   "source": [
    "#### Q3)"
   ]
  },
  {
   "cell_type": "code",
   "execution_count": 25,
   "id": "fe379dc6",
   "metadata": {},
   "outputs": [],
   "source": [
    "def trajet(n):\n",
    "    ab = [i for i in range(n+1)]\n",
    "    deplacement = [deplacement(i) for i in ab]\n",
    "    plt.plot(ab, deplacement)"
   ]
  },
  {
   "cell_type": "markdown",
   "id": "bd602f68",
   "metadata": {},
   "source": [
    "#### Q4"
   ]
  },
  {
   "cell_type": "code",
   "execution_count": 26,
   "id": "30c4c53c",
   "metadata": {},
   "outputs": [],
   "source": [
    "def arrivee():\n",
    "    puce = 1\n",
    "    n = 0\n",
    "    while puce != 3:\n",
    "        n = n + 1\n",
    "        puce = deplacement(n)\n",
    "        print(puce)\n",
    "    return n "
   ]
  }
 ],
 "metadata": {
  "kernelspec": {
   "display_name": "Python 3 (ipykernel)",
   "language": "python",
   "name": "python3"
  },
  "language_info": {
   "codemirror_mode": {
    "name": "ipython",
    "version": 3
   },
   "file_extension": ".py",
   "mimetype": "text/x-python",
   "name": "python",
   "nbconvert_exporter": "python",
   "pygments_lexer": "ipython3",
   "version": "3.11.5"
  }
 },
 "nbformat": 4,
 "nbformat_minor": 5
}
